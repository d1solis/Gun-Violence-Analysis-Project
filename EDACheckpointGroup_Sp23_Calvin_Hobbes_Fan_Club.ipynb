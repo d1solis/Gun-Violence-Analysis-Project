{
 "cells": [
  {
   "attachments": {},
   "cell_type": "markdown",
   "metadata": {},
   "source": [
    "# COGS 108 - EDA Checkpoint"
   ]
  },
  {
   "attachments": {},
   "cell_type": "markdown",
   "metadata": {},
   "source": [
    "# Names\n",
    "\n",
    "- Andrew Phan\n",
    "- Aditya Kumar\n",
    "- Dalila Solis\n",
    "- Ricardo Aguilar\n",
    "- Zach Yuen"
   ]
  },
  {
   "attachments": {},
   "cell_type": "markdown",
   "metadata": {},
   "source": [
    "<a id='research_question'></a>\n",
    "# Research Question"
   ]
  },
  {
   "attachments": {},
   "cell_type": "markdown",
   "metadata": {},
   "source": [
    "Between poverty rates and access to mental health services, which factors correlate most significantly to gun violence in the United States?"
   ]
  },
  {
   "attachments": {},
   "cell_type": "markdown",
   "metadata": {},
   "source": [
    "# Setup"
   ]
  },
  {
   "cell_type": "code",
   "execution_count": 59,
   "metadata": {},
   "outputs": [],
   "source": [
    "import seaborn as sns\n",
    "\n",
    "import matplotlib as mpl\n",
    "import matplotlib.pyplot as plt\n",
    "\n",
    "import pandas as pd\n",
    "import numpy as np"
   ]
  },
  {
   "attachments": {},
   "cell_type": "markdown",
   "metadata": {},
   "source": [
    "# Data Cleaning"
   ]
  },
  {
   "attachments": {},
   "cell_type": "markdown",
   "metadata": {},
   "source": [
    "Import data and remove unused columns"
   ]
  },
  {
   "cell_type": "code",
   "execution_count": 60,
   "metadata": {},
   "outputs": [],
   "source": [
    "# Create Gun Violence Dataframe and remove unwanted columns\n",
    "incidentsDF = pd.read_csv(\"Datasets/incident.csv\")\n",
    "incidentsDF = incidentsDF.drop(columns=['City_Or_County', 'Address', 'Killed', 'Injured', 'Incident_ID'])\n",
    "incidentsDF = incidentsDF.sort_values(by='State_Code').reset_index(drop=True)\n",
    "\n",
    "# Create Mental Health Dataframe\n",
    "healthDF = pd.read_csv(\"Datasets/MentalHealth.csv\")\n",
    "\n",
    "# Create Poverty Dataframe\n",
    "povertyDF = pd.read_csv(\"Datasets/Poverty.csv\")\n",
    "povertyDF = povertyDF.dropna()\n",
    "povertyDF = povertyDF.rename(columns={'Table with row headers in column A and column headers in rows 5, 58, 111, 164, 217, 270, 323, 376, 429, 482, 535, 588, 641, 694, 747, 800, 853, 906, 959, 1012, 1065, 1118, 1171, 1224, 1277, 1330, 1383, 1436, 1489, 1542, 1595, 1648, 1701, 1754, 1807, 1860, 1913, 1966, 2019, 2072, 2125, 2178, 2231, and 2284': 'State', 'Unnamed: 1': 'Total population', 'Unnamed: 2': 'Number in poverty', 'Unnamed: 4': 'Percent in poverty'})\n",
    "povertyDF = povertyDF.drop(index=3, columns={'Unnamed: 3', 'Unnamed: 5'})\n",
    "povertyDF = povertyDF[povertyDF['State'] != 'State']\n",
    "povertyDF = povertyDF.reset_index(drop=True)"
   ]
  },
  {
   "attachments": {},
   "cell_type": "markdown",
   "metadata": {},
   "source": [
    "Renaming State column in incidentsDF from state codes to full state names"
   ]
  },
  {
   "cell_type": "code",
   "execution_count": 61,
   "metadata": {},
   "outputs": [],
   "source": [
    "incidentsDF = incidentsDF.rename(columns={'State_Code': 'State'})\n",
    "\n",
    "# Rename from state codes to full state name\n",
    "incidentsDF['State'] = incidentsDF['State'].replace('AK', 'Alaska')\n",
    "incidentsDF['State'] = incidentsDF['State'].replace('AL', 'Alabama')\n",
    "incidentsDF['State'] = incidentsDF['State'].replace('AZ', 'Arizona')\n",
    "incidentsDF['State'] = incidentsDF['State'].replace('AR', 'Arkansas')\n",
    "incidentsDF['State'] = incidentsDF['State'].replace('CA', 'California')\n",
    "incidentsDF['State'] = incidentsDF['State'].replace('CO', 'Colorado')\n",
    "incidentsDF['State'] = incidentsDF['State'].replace('CT', 'Connecticut')\n",
    "incidentsDF['State'] = incidentsDF['State'].replace('DE', 'Delaware')\n",
    "incidentsDF['State'] = incidentsDF['State'].replace('DC', 'District of Columbia')\n",
    "incidentsDF['State'] = incidentsDF['State'].replace('FL', 'Florida')\n",
    "incidentsDF['State'] = incidentsDF['State'].replace('GA', 'Georgia')\n",
    "incidentsDF['State'] = incidentsDF['State'].replace('HI', 'Hawaii')\n",
    "incidentsDF['State'] = incidentsDF['State'].replace('ID', 'Idaho')\n",
    "incidentsDF['State'] = incidentsDF['State'].replace('IL', 'Illinois')\n",
    "incidentsDF['State'] = incidentsDF['State'].replace('IA', 'Iowa')\n",
    "incidentsDF['State'] = incidentsDF['State'].replace('IN', 'Indiana')\n",
    "incidentsDF['State'] = incidentsDF['State'].replace('KS', 'Kansas')\n",
    "incidentsDF['State'] = incidentsDF['State'].replace('KY', 'Kentucky')\n",
    "incidentsDF['State'] = incidentsDF['State'].replace('LA', 'Louisiana')\n",
    "incidentsDF['State'] = incidentsDF['State'].replace('ME', 'Maine')\n",
    "incidentsDF['State'] = incidentsDF['State'].replace('MD', 'Maryland')\n",
    "incidentsDF['State'] = incidentsDF['State'].replace('MA', 'Massachusetts')\n",
    "incidentsDF['State'] = incidentsDF['State'].replace('MI', 'Michigan')\n",
    "incidentsDF['State'] = incidentsDF['State'].replace('MN', 'Minnesota')\n",
    "incidentsDF['State'] = incidentsDF['State'].replace('MS', 'Mississippi')\n",
    "incidentsDF['State'] = incidentsDF['State'].replace('MO', 'Missouri')\n",
    "incidentsDF['State'] = incidentsDF['State'].replace('MT', 'Montana')\n",
    "incidentsDF['State'] = incidentsDF['State'].replace('NE', 'Nebraska')\n",
    "incidentsDF['State'] = incidentsDF['State'].replace('NV', 'Nevada')\n",
    "incidentsDF['State'] = incidentsDF['State'].replace('NH', 'New Hampshire')\n",
    "incidentsDF['State'] = incidentsDF['State'].replace('NJ', 'New Jersey')\n",
    "incidentsDF['State'] = incidentsDF['State'].replace('NM', 'New Mexico')\n",
    "incidentsDF['State'] = incidentsDF['State'].replace('NY', 'New York')\n",
    "incidentsDF['State'] = incidentsDF['State'].replace('NC', 'North Carolina')\n",
    "incidentsDF['State'] = incidentsDF['State'].replace('ND', 'North Dakota')\n",
    "incidentsDF['State'] = incidentsDF['State'].replace('OH', 'Ohio')\n",
    "incidentsDF['State'] = incidentsDF['State'].replace('OK', 'Oklahoma')\n",
    "incidentsDF['State'] = incidentsDF['State'].replace('OR', 'Oregon')\n",
    "incidentsDF['State'] = incidentsDF['State'].replace('PA', 'Pennsylvania')\n",
    "incidentsDF['State'] = incidentsDF['State'].replace('RI', 'Rhode Island')\n",
    "incidentsDF['State'] = incidentsDF['State'].replace('SC', 'South Carolina')\n",
    "incidentsDF['State'] = incidentsDF['State'].replace('SD', 'South Dakota')\n",
    "incidentsDF['State'] = incidentsDF['State'].replace('TN', 'Tennessee')\n",
    "incidentsDF['State'] = incidentsDF['State'].replace('TX', 'Texas')\n",
    "incidentsDF['State'] = incidentsDF['State'].replace('UT', 'Utah')\n",
    "incidentsDF['State'] = incidentsDF['State'].replace('VT', 'Vermont')\n",
    "incidentsDF['State'] = incidentsDF['State'].replace('VA', 'Virginia')\n",
    "incidentsDF['State'] = incidentsDF['State'].replace('WA', 'Washington')\n",
    "incidentsDF['State'] = incidentsDF['State'].replace('WV', 'West Virginia')\n",
    "incidentsDF['State'] = incidentsDF['State'].replace('WI', 'Wisconsin')\n",
    "incidentsDF['State'] = incidentsDF['State'].replace('WY', 'Wyoming')"
   ]
  },
  {
   "attachments": {},
   "cell_type": "markdown",
   "metadata": {},
   "source": [
    "Removing duplicate years from the poverty dataset"
   ]
  },
  {
   "cell_type": "code",
   "execution_count": 62,
   "metadata": {},
   "outputs": [],
   "source": [
    "povertyDF = povertyDF.drop(index=range(255,306))\n",
    "povertyDF = povertyDF.reset_index(drop=True)\n",
    "povertyDF = povertyDF.drop(index=range(255,306))\n",
    "povertyDF = povertyDF.reset_index(drop=True)"
   ]
  },
  {
   "attachments": {},
   "cell_type": "markdown",
   "metadata": {},
   "source": [
    "Adding the \"Year\" column to povertyDF"
   ]
  },
  {
   "cell_type": "code",
   "execution_count": 63,
   "metadata": {},
   "outputs": [],
   "source": [
    "year = 2021\n",
    "for i in range(len(povertyDF)):\n",
    "    if povertyDF.at[i, 'State'] == \"Alabama\" and i != 0:\n",
    "        year -= 1\n",
    "    povertyDF.at[i, 'Year'] = year\n",
    "povertyDF = povertyDF.astype({'Year': int})\n",
    "povertyDF = povertyDF.dropna()\n",
    "povertyDF = povertyDF.reset_index(drop=True)"
   ]
  },
  {
   "attachments": {},
   "cell_type": "markdown",
   "metadata": {},
   "source": [
    "# Data Analysis & Results (EDA)"
   ]
  },
  {
   "attachments": {},
   "cell_type": "markdown",
   "metadata": {},
   "source": [
    "Carry out EDA on your dataset(s); Describe in this section"
   ]
  },
  {
   "cell_type": "code",
   "execution_count": 64,
   "metadata": {},
   "outputs": [
    {
     "data": {
      "image/png": "[encoded data removed]",
      "text/plain": [
       "<Figure size 1000x600 with 1 Axes>"
      ]
     },
     "metadata": {},
     "output_type": "display_data"
    }
   ],
   "source": [
    "# Filter data for the years (2014-2022)\n",
    "start_year = '2014'\n",
    "end_year = '2022'\n",
    "incidents_by_year = incidentsDF[(incidentsDF['Incident_Date'].str[:4] >= start_year) & (incidentsDF['Incident_Date'].str[:4] <= end_year)]\n",
    "\n",
    "# Extract the year from the incident dates\n",
    "incidents_by_year['Year'] = incidents_by_year['Incident_Date'].str[:4]\n",
    "\n",
    "# Count the number of incidents for each year\n",
    "incident_counts = incidents_by_year['Year'].value_counts().sort_index()\n",
    "\n",
    "# Create a histogram\n",
    "plt.figure(figsize=(10, 6))\n",
    "plt.bar(incident_counts.index, incident_counts.values, color='red')\n",
    "plt.xlabel('Year')\n",
    "plt.ylabel('Number of Gun Violence Incidents')\n",
    "plt.title('Gun Violence Incidents by Year (2014-2022)')\n",
    "plt.show()"
   ]
  }
 ],
 "metadata": {
  "kernelspec": {
   "display_name": "Python 3",
   "language": "python",
   "name": "python3"
  },
  "language_info": {
   "codemirror_mode": {
    "name": "ipython",
    "version": 3
   },
   "file_extension": ".py",
   "mimetype": "text/x-python",
   "name": "python",
   "nbconvert_exporter": "python",
   "pygments_lexer": "ipython3",
   "version": "3.10.9"
  }
 },
 "nbformat": 4,
 "nbformat_minor": 2
}
