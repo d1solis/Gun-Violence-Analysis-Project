{
 "cells": [
  {
   "cell_type": "markdown",
   "metadata": {},
   "source": [
    "# COGS 108 - Data Checkpoint"
   ]
  },
  {
   "cell_type": "markdown",
   "metadata": {},
   "source": [
    "# Names\n",
    "\n",
    "- Andrew Phan\n",
    "- Aditya Kumar\n",
    "- Dalila Solis\n",
    "- Ricardo Aguilar\n",
    "- Zach Yuen\n"
   ]
  },
  {
   "cell_type": "markdown",
   "metadata": {},
   "source": [
    "<a id='research_question'></a>\n",
    "# Research Question"
   ]
  },
  {
   "cell_type": "markdown",
   "metadata": {},
   "source": [
    "Between poverty rates and access to mental health services, which factors correlate most significantly to gun violence in the United States?"
   ]
  },
  {
   "cell_type": "markdown",
   "metadata": {},
   "source": [
    "# Dataset(s)"
   ]
  },
  {
   "cell_type": "markdown",
   "metadata": {},
   "source": [
    "* Name: Mental Health Dataset\n",
    "* Link: https://mhanational.org/issues/2022/mental-health-america-access-care-data\n",
    "* Number of observations: 408\n",
    "\n",
    "This dataset provides the rate of access to care and mental health rates by state from 2015 till 2022. A high ranking on this dataset means that citizens of the state have a high access to care and a low mental health rate. \n",
    "\n",
    "\n",
    "* Name: Poverty Rate Dataset\n",
    "* https://www.census.gov/data/tables/time-series/demo/income-poverty/historical-poverty-people.html\n",
    "* Number of observations: 3162\n",
    "\n",
    "This dataset provides the number of people and the poverty rate per state for the years 1959 till 2021.\n",
    "\n",
    "\n",
    "* Name: Gun Violence Incidents Dataset\n",
    "* https://www.kaggle.com/datasets/greysky/us-gun-violence-dataset\n",
    "* Number of observations: 452787\n",
    "\n",
    "This dataset provides the gun violence incidents that have occurred in the United States from January 1, 2014 to September 22, 2022. The data is grouped by state which will allow us to calculate the number of incidents per state within this time frame as well as see the trend in number of incidents through the years. \n",
    "\n",
    "\n",
    "\n",
    "We plan to use these datasets in conjunction to compare how each factors affect the number of gun violence incidents. The mental health dataset and the poverty rate dataset will each be compared to the gun violence datasets by state to see the trends between each of these factors and gun violence."
   ]
  },
  {
   "cell_type": "markdown",
   "metadata": {},
   "source": [
    "# Setup"
   ]
  },
  {
   "cell_type": "code",
   "execution_count": 8,
   "metadata": {},
   "outputs": [],
   "source": [
    "import seaborn as sns\n",
    "\n",
    "import matplotlib as mpl\n",
    "import matplotlib.pyplot as plt\n",
    "\n",
    "import pandas as pd\n",
    "import numpy as np"
   ]
  },
  {
   "cell_type": "markdown",
   "metadata": {},
   "source": [
    "# Data Cleaning"
   ]
  },
  {
   "cell_type": "markdown",
   "metadata": {},
   "source": [
    "Import data and remove unused columns"
   ]
  },
  {
   "cell_type": "code",
   "execution_count": 71,
   "metadata": {},
   "outputs": [],
   "source": [
    "# Create Gun Violence Dataframe and remove unwanted columns\n",
    "incidentsDF = pd.read_csv(\"Datasets/incident.csv\")\n",
    "incidentsDF = incidentsDF.drop(columns=['City_Or_County', 'Address', 'Killed', 'Injured', 'Incident_ID'])\n",
    "incidentsDF = incidentsDF.sort_values(by='State_Code').reset_index(drop=True)\n",
    "\n",
    "# Create Mental Health Dataframe\n",
    "healthDF = pd.read_csv(\"Datasets/MentalHealth.csv\")\n",
    "\n",
    "# Create Poverty Dataframe\n",
    "povertyDF = pd.read_csv(\"Datasets/Poverty.csv\")\n",
    "povertyDF = povertyDF.dropna()\n",
    "povertyDF = povertyDF.rename(columns={'Table with row headers in column A and column headers in rows 5, 58, 111, 164, 217, 270, 323, 376, 429, 482, 535, 588, 641, 694, 747, 800, 853, 906, 959, 1012, 1065, 1118, 1171, 1224, 1277, 1330, 1383, 1436, 1489, 1542, 1595, 1648, 1701, 1754, 1807, 1860, 1913, 1966, 2019, 2072, 2125, 2178, 2231, and 2284': 'State', 'Unnamed: 1': 'Total population', 'Unnamed: 2': 'Number in poverty', 'Unnamed: 4': 'Percent in poverty'})\n",
    "povertyDF = povertyDF.drop(index=3, columns={'Unnamed: 3', 'Unnamed: 5'})\n",
    "povertyDF = povertyDF[povertyDF['State'] != 'State']\n",
    "povertyDF = povertyDF.reset_index(drop=True)"
   ]
  },
  {
   "cell_type": "markdown",
   "metadata": {},
   "source": [
    "Renaming State column in incidentsDF from state codes to full state names"
   ]
  },
  {
   "cell_type": "code",
   "execution_count": 72,
   "metadata": {},
   "outputs": [],
   "source": [
    "incidentsDF = incidentsDF.rename(columns={'State_Code': 'State'})\n",
    "\n",
    "# Rename from state codes to full state name\n",
    "incidentsDF['State'] = incidentsDF['State'].replace('AK', 'Alaska')\n",
    "incidentsDF['State'] = incidentsDF['State'].replace('AL', 'Alabama')\n",
    "incidentsDF['State'] = incidentsDF['State'].replace('AZ', 'Arizona')\n",
    "incidentsDF['State'] = incidentsDF['State'].replace('AR', 'Arkansas')\n",
    "incidentsDF['State'] = incidentsDF['State'].replace('CA', 'California')\n",
    "incidentsDF['State'] = incidentsDF['State'].replace('CO', 'Colorado')\n",
    "incidentsDF['State'] = incidentsDF['State'].replace('CT', 'Connecticut')\n",
    "incidentsDF['State'] = incidentsDF['State'].replace('DE', 'Delaware')\n",
    "incidentsDF['State'] = incidentsDF['State'].replace('DC', 'District of Columbia')\n",
    "incidentsDF['State'] = incidentsDF['State'].replace('FL', 'Florida')\n",
    "incidentsDF['State'] = incidentsDF['State'].replace('GA', 'Georgia')\n",
    "incidentsDF['State'] = incidentsDF['State'].replace('HI', 'Hawaii')\n",
    "incidentsDF['State'] = incidentsDF['State'].replace('ID', 'Idaho')\n",
    "incidentsDF['State'] = incidentsDF['State'].replace('IL', 'Illinois')\n",
    "incidentsDF['State'] = incidentsDF['State'].replace('IA', 'Iowa')\n",
    "incidentsDF['State'] = incidentsDF['State'].replace('IN', 'Indiana')\n",
    "incidentsDF['State'] = incidentsDF['State'].replace('KS', 'Kansas')\n",
    "incidentsDF['State'] = incidentsDF['State'].replace('KY', 'Kentucky')\n",
    "incidentsDF['State'] = incidentsDF['State'].replace('LA', 'Louisiana')\n",
    "incidentsDF['State'] = incidentsDF['State'].replace('ME', 'Maine')\n",
    "incidentsDF['State'] = incidentsDF['State'].replace('MD', 'Maryland')\n",
    "incidentsDF['State'] = incidentsDF['State'].replace('MA', 'Massachusetts')\n",
    "incidentsDF['State'] = incidentsDF['State'].replace('MI', 'Michigan')\n",
    "incidentsDF['State'] = incidentsDF['State'].replace('MN', 'Minnesota')\n",
    "incidentsDF['State'] = incidentsDF['State'].replace('MS', 'Mississippi')\n",
    "incidentsDF['State'] = incidentsDF['State'].replace('MO', 'Missouri')\n",
    "incidentsDF['State'] = incidentsDF['State'].replace('MT', 'Montana')\n",
    "incidentsDF['State'] = incidentsDF['State'].replace('NE', 'Nebraska')\n",
    "incidentsDF['State'] = incidentsDF['State'].replace('NV', 'Nevada')\n",
    "incidentsDF['State'] = incidentsDF['State'].replace('NH', 'New Hampshire')\n",
    "incidentsDF['State'] = incidentsDF['State'].replace('NJ', 'New Jersey')\n",
    "incidentsDF['State'] = incidentsDF['State'].replace('NM', 'New Mexico')\n",
    "incidentsDF['State'] = incidentsDF['State'].replace('NY', 'New York')\n",
    "incidentsDF['State'] = incidentsDF['State'].replace('NC', 'North Carolina')\n",
    "incidentsDF['State'] = incidentsDF['State'].replace('ND', 'North Dakota')\n",
    "incidentsDF['State'] = incidentsDF['State'].replace('OH', 'Ohio')\n",
    "incidentsDF['State'] = incidentsDF['State'].replace('OK', 'Oklahoma')\n",
    "incidentsDF['State'] = incidentsDF['State'].replace('OR', 'Oregon')\n",
    "incidentsDF['State'] = incidentsDF['State'].replace('PA', 'Pennsylvania')\n",
    "incidentsDF['State'] = incidentsDF['State'].replace('RI', 'Rhode Island')\n",
    "incidentsDF['State'] = incidentsDF['State'].replace('SC', 'South Carolina')\n",
    "incidentsDF['State'] = incidentsDF['State'].replace('SD', 'South Dakota')\n",
    "incidentsDF['State'] = incidentsDF['State'].replace('TN', 'Tennessee')\n",
    "incidentsDF['State'] = incidentsDF['State'].replace('TX', 'Texas')\n",
    "incidentsDF['State'] = incidentsDF['State'].replace('UT', 'Utah')\n",
    "incidentsDF['State'] = incidentsDF['State'].replace('VT', 'Vermont')\n",
    "incidentsDF['State'] = incidentsDF['State'].replace('VA', 'Virginia')\n",
    "incidentsDF['State'] = incidentsDF['State'].replace('WA', 'Washington')\n",
    "incidentsDF['State'] = incidentsDF['State'].replace('WV', 'West Virginia')\n",
    "incidentsDF['State'] = incidentsDF['State'].replace('WI', 'Wisconsin')\n",
    "incidentsDF['State'] = incidentsDF['State'].replace('WY', 'Wyoming')"
   ]
  },
  {
   "cell_type": "markdown",
   "metadata": {},
   "source": [
    "Removing duplicate years from the poverty dataset"
   ]
  },
  {
   "cell_type": "code",
   "execution_count": 73,
   "metadata": {},
   "outputs": [],
   "source": [
    "povertyDF = povertyDF.drop(index=range(255,306))\n",
    "povertyDF = povertyDF.reset_index(drop=True)\n",
    "povertyDF = povertyDF.drop(index=range(255,306))\n",
    "povertyDF = povertyDF.reset_index(drop=True)"
   ]
  },
  {
   "cell_type": "markdown",
   "metadata": {},
   "source": [
    "Adding the \"Year\" column to povertyDF"
   ]
  },
  {
   "cell_type": "code",
   "execution_count": 74,
   "metadata": {},
   "outputs": [],
   "source": [
    "year = 2021\n",
    "for i in range(len(povertyDF)):\n",
    "    if povertyDF.at[i, 'State'] == \"Alabama\" and i != 0:\n",
    "        year -= 1\n",
    "    povertyDF.at[i, 'Year'] = year\n",
    "povertyDF = povertyDF.astype({'Year': int})\n",
    "povertyDF = povertyDF.dropna()\n",
    "povertyDF = povertyDF.reset_index(drop=True)"
   ]
  },
  {
   "cell_type": "code",
   "execution_count": null,
   "metadata": {},
   "outputs": [],
   "source": []
  }
 ],
 "metadata": {
  "kernelspec": {
   "display_name": "Python 3 (ipykernel)",
   "language": "python",
   "name": "python3"
  },
  "language_info": {
   "codemirror_mode": {
    "name": "ipython",
    "version": 3
   },
   "file_extension": ".py",
   "mimetype": "text/x-python",
   "name": "python",
   "nbconvert_exporter": "python",
   "pygments_lexer": "ipython3",
   "version": "3.9.5"
  }
 },
 "nbformat": 4,
 "nbformat_minor": 2
}
