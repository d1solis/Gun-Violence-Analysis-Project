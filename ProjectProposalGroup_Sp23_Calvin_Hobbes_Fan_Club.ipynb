{
 "cells": [
  {
   "attachments": {},
   "cell_type": "markdown",
   "metadata": {},
   "source": [
    "# COGS 108 - Final Project Proposal"
   ]
  },
  {
   "attachments": {},
   "cell_type": "markdown",
   "metadata": {},
   "source": [
    "# Names\n",
    "\n",
    "- Andrew Phan\n",
    "- Aditya Kumar\n",
    "- Dalila Solis\n",
    "- Ricardo Aguilar\n",
    "- Zach Yuen"
   ]
  },
  {
   "attachments": {},
   "cell_type": "markdown",
   "metadata": {},
   "source": [
    "# Research Question"
   ]
  },
  {
   "attachments": {},
   "cell_type": "markdown",
   "metadata": {},
   "source": [
    "-  Include a specific, clear data science question.\n",
    "-  Make sure what you're measuring (variables) to answer the question is clear\n",
    "\n",
    "What is your research question? Include the specific question you're setting out to answer. This question should be specific, answerable with data, and clear. A general question with specific subquestions is permitted. (1-2 sentences)\n",
    "\n",
    "**Analyzing the impact of interactive kiosks versus traditional customer service channels: How do they compare in terms of efficiency, cost-effectiveness, and customer satisfaction? Are there certain types of customers who prefer one channel over the other?**"
   ]
  },
  {
   "attachments": {},
   "cell_type": "markdown",
   "metadata": {},
   "source": [
    "## Background and Prior Work"
   ]
  },
  {
   "attachments": {},
   "cell_type": "markdown",
   "metadata": {},
   "source": [
    "\n",
    "- Include a general introduction to your topic\n",
    "- Include explanation of what work has been done previously\n",
    "- Include citations or links to previous work\n",
    "\n",
    "This section will present the background and context of your topic and question in a few paragraphs. Include a general introduction to your topic and then describe what information you currently know about the topic after doing your initial research. Include references to other projects who have asked similar questions or approached similar problems. Explain what others have learned in their projects.\n",
    "\n",
    "Find some relevant prior work, and reference those sources, summarizing what each did and what they learned. Even if you think you have a totally novel question, find the most similar prior work that you can and discuss how it relates to your project.\n",
    "\n",
    "References can be research publications, but they need not be. Blogs, GitHub repositories, company websites, etc., are all viable references if they are relevant to your project. It must be clear which information comes from which references. (2-3 paragraphs, including at least 2 references)\n",
    "\n",
    " **Use inline citation through Markdown footnotes to specify which references support which statements** \n",
    "\n",
    "For example: After government genocide in the 20th century, real birds were replaced with surveillance drones designed to look just like birds[^lorenz]. \n",
    "Use a minimum of 2 or 3 citations, but we prefer more[^admonish]. You need enough to fully explain and back up important facts. \n",
    "\n",
    "[^lorenz]: Lorenz, T. (9 Dec 2021) Birds Aren’t Real, or Are They? Inside a Gen Z Conspiracy Theory. *The New York Times*. https://www.nytimes.com/2021/12/09/technology/birds-arent-real-gen-z-misinformation.html \n",
    "[^admonish]: Also refs should be important to the background, not some randomly chosen vaguely related stuff. Include a web link if possible in refs as above.\n",
    "\n",
    "\n",
    "\n",
    "\n",
    "**A self-service kiosk refers to a digital terminal that allows customers to independently place orders, customize their meals, and pay for their orders without having to deal with a cashier or employee directly. These kiosks often offer customer-friendly user interfaces, menu selections, and payment processing capabilities to make it easy and simple for customers to complete their orders. In the last several years, there has been a lot of discussion on how interactive kiosks and conventional customer service channels compare in the fast food business. Many fast food companies have implemented interactive kiosks as an alternate ordering option in addition to traditional cashier service due to the advancement of technology and the need for improved customer experiences.**\n",
    "\n",
    "**There have been several studies that have explored the impact of interactive kiosks on efficiency, cost-effectiveness, and customer satisfaction. An example includes that of Rastegar, Nazi where he conducted a study titled \"Adoption of Self-service Kiosks in Quick-service Restaurants.\" He found that the more customers are satisfied with the kiosk, the more likely they are to use kiosk service whenever available; and the more likely they are to encourage their friends and families to use it ^[rategar]. Similarly, this includes that of Melissa Harward examining how self-service kiosks are transforming the quick-service restaurant environment. Her study revealed that by providing a self-service option in addition to a traditional cashier and cash register, QSRs are able to reduce the number of people both waiting in line to order and standing around the counter waiting for their food ^[harward]. This suggests that interactive kiosks could offer long-term benefits to the establishments.**\n",
    "\n",
    "**Even though the studies mentioned above have shown the advantages of interactive kiosks, further investigation is still required to fully comprehend their effects. In order to fully understand the differences between interactive kiosks and more conventional customer service channels, it is crucial to consider the intricacies of efficeny, cost-effectiveness, and customer satisfaction. Additionally, customer preferences play a pivotal role in the adoption and success of kiosks. While some consumers could still appreciate personalized service and traditional human interactions, others might still prefer the speed and overall convenience of self-service through kiosks. The installation and marketing tactics for interactive kiosks may be tailored to better suit certain customer preferences by indentifying unique customer categoried based on demographic traits, eating choices, or technological literacy. Overall, while earlier research has provided a foundation for understanding the impact of interactive kiosks, more thorough and in-depth investigation is still required.**\n",
    "\n",
    "\n",
    "**[^rastegar] Rastegar, N., Flaherty, J., Liang, L., & Choi, H. (2021). The adoption of self-service kiosks in quick-service restaurants. European Journal of Tourism Research, 27, 2709. https://doi.org/10.54055/ejtr.v27i.2139**\n",
    " \n",
    "**[^harward] Harward, M. (2019, August 26). How self-service ordering kiosks are transforming the QSR environment. KioskMarketPlace. https://www.kioskmarketplace.com/blogs/how-self-service-ordering-kiosks-are-transforming-the-qsr-environment/#:~:text=By%20providing%20a%20self%2Dservice**\n"
   ]
  },
  {
   "attachments": {},
   "cell_type": "markdown",
   "metadata": {},
   "source": [
    "# Hypothesis\n"
   ]
  },
  {
   "attachments": {},
   "cell_type": "markdown",
   "metadata": {},
   "source": [
    "\n",
    "- Include your team's hypothesis\n",
    "- Ensure that this hypothesis is clear to readers\n",
    "- Explain why you think this will be the outcome (what was your thinking?)\n",
    "\n",
    "What is your main hypothesis/predictions about what the answer to your question is? Briefly explain your thinking. (2-3 sentences)\n",
    "\n",
    "**We hypothesize that interactive kiosks offer advantages over conventional customer service channels in terms of efficiency, cost-effectiveness, and customer satisfaction. Self-service interactive kiosks offer the ability to increase efficiency by lowering wait times, enhancing order accuracy, and optimizing staffing demands. Additionally, we predict that the use of kiosks may result in considerable labor and operational cost reducations. To make sure that the advantages of kiosks are in line with user preferences, it is necessary to look at customer satisfation. We also anticipate that certain consumer demographics, such as younger generations, may favor interactive kiosks due to their familiarity with technology and a desire for a seamless and effective ordering experience.**"
   ]
  },
  {
   "attachments": {},
   "cell_type": "markdown",
   "metadata": {},
   "source": [
    "# Data"
   ]
  },
  {
   "attachments": {},
   "cell_type": "markdown",
   "metadata": {},
   "source": [
    "1. Explain what the **ideal** dataset you would want to answer this question. (This should include: What variables? How many observations? Who/what/how would these data be collected? How would these data be stored/organized?)\n",
    "1. Search for potential **real** datasets that could provide you with something useful for this project.  You do not have to find every piece of data you will use, but you do need to have demonstrated some idea that (a) this data is gettable and (b) that this data may be different from what your ideal is\n",
    "\n",
    "\n",
    "**To explore this research question, the ideal dataset would include the following variables:**\n",
    "**1. Efficiency metrics: Order processing time, wait times, order accuracy rates, and the number of orders served per hour for both interactive kiosks and traditional channels.**\n",
    "**2. Cost data: Comparison of costs associated with implementing and maintaining interactive kiosks versus traditional customer service channels. This would include initial investment costs, operational expenses, and labor costs.**\n",
    "**3. Customer satisfaction measures: Surveys or ratings capturing customer satisfaction levels for both interactive kiosks and traditional channels. This could include ratings for ease of use, speed of service, order accuracy, and overall satisfaction.**\n",
    "**4. Customer segmentation variables: Demographic characteristics (e.g., age, gender), dining habits (e.g., frequency of dining out, type of fast food consumed), and technological literacy (e.g., comfort with using technology) to identify specific customer segments that exhibit preferences for interactive kiosks or traditional channels.**\n",
    "\n",
    "**https://www.revenuemanage.com/wp-content/uploads/2023/01/Jan23-RMS-RestaurantConsumers-Kiosk.pdf**\n",
    "**https://www.softwareadvice.com/resources/preferences-for-self-service-pos/**\n",
    "**https://www.qsrweb.com/articles/what-to-consider-when-implementing-a-restaurant-kiosk/**\n",
    "**https://www.lamasatech.com/blog/7-incredible-benefits-of-self-service-kiosks/** \n",
    "**https://data.bls.gov/search/query/results?q=kiosk**"
   ]
  },
  {
   "attachments": {},
   "cell_type": "markdown",
   "metadata": {},
   "source": [
    "# Ethics & Privacy"
   ]
  },
  {
   "attachments": {},
   "cell_type": "markdown",
   "metadata": {},
   "source": [
    "- Thoughtful discussion of ethical concerns included\n",
    "- Ethical concerns consider the whole data science process (question asked, data collected, data being used, the bias in data, analysis, post-analysis, etc.)\n",
    "- How your group handled bias/ethical concerns clearly described\n",
    "\n",
    "Acknowledge and address any ethics & privacy related issues of your question(s), proposed dataset(s), and/or analyses. Use the information provided in lecture to guide your group discussion and thinking. If you need further guidance, check out [Deon's Ethics Checklist](http://deon.drivendata.org/#data-science-ethics-checklist). In particular:\n",
    "\n",
    "- Are there any biases/privacy/terms of use issues with the data you propsed?\n",
    "- Are there potential biases in your dataset(s), in terms of who it composes, and how it was collected, that may be problematic in terms of it allowing for equitable analysis? (For example, does your data exclude particular populations, or is it likely to reflect particular human biases in a way that could be a problem?)\n",
    "- How will you set out to detect these specific biases before, during, and after/when communicating your analysis?\n",
    "- Are there any other issues related to your topic area, data, and/or analyses that are potentially problematic in terms of data privacy and equitable impact?\n",
    "- How will you handle issues you identified?\n",
    "\n",
    "**When considering our research question there are a few potential concerns and biases to be aware of such as self-reporting bias where customers may provide socially desirable responses on their satisfaction levels that can be influenced by elements unlrelated to kiosks or traditional customer service channels. Another concern would be the privacy of customer data in which we would need to ensure that the data is anonymized and that any personal information about the customer is removed. We would need to be mindful of any biases by acknowledging and discussing them in our analysis and reporting of the data in order to provide unbiased, reliable and credible insights.**"
   ]
  },
  {
   "attachments": {},
   "cell_type": "markdown",
   "metadata": {},
   "source": [
    "# Team Expectations "
   ]
  },
  {
   "attachments": {},
   "cell_type": "markdown",
   "metadata": {},
   "source": [
    "\n",
    "Read over the [COGS108 Team Policies](https://github.com/COGS108/Projects/blob/master/COGS108_TeamPolicies.md) individually. Then, include your group’s expectations of one another for successful completion of your COGS108 project below. Discuss and agree on what all of your expectations are. Discuss how your team will communicate throughout the quarter and consider how you will communicate respectfully should conflicts arise. By including each member’s name above and by adding their name to the submission, you are indicating that you have read the COGS108 Team Policies, accept your team’s expectations below, and have every intention to fulfill them. These expectations are for your team’s use and benefit — they won’t be graded for their details.\n",
    "\n",
    "* ***Get work done on time (meet deadlines)***\n",
    "* ***Notify team if you might not be able to ahead of time***\n",
    "* ***Show up to meetings***\n",
    "* ***Communicate with team if you’re struggling***"
   ]
  },
  {
   "attachments": {},
   "cell_type": "markdown",
   "metadata": {},
   "source": [
    "# Project Timeline Proposal"
   ]
  },
  {
   "attachments": {},
   "cell_type": "markdown",
   "metadata": {},
   "source": [
    "Specify your team's specific project timeline. An example timeline has been provided. Changes the dates, times, names, and details to fit your group's plan.\n",
    "\n",
    "If you think you will need any special resources or training outside what we have covered in COGS 108 to solve your problem, then your proposal should state these clearly. For example, if you have selected a problem that involves implementing multiple neural networks, please state this so we can make sure you know what you’re doing and so we can point you to resources you will need to implement your project. Note that you are not required to use outside methods.\n",
    "\n",
    "\n",
    "\n",
    "| Meeting Date  | Meeting Time| Completed Before Meeting  | Discuss at Meeting |\n",
    "|---|---|---|---|\n",
    "| 5/9  |  7 PM | Do more background research  | Finalize project goals (incorporate feedback from proposal) and find datasets | \n",
    "| 5/17  |  7 PM |  Found various datasets | Finalize which datasets to use; Discuss Wrangling and possible analytical approaches; Assign group members to lead each specific part | \n",
    "| 5/24  | 7 PM  | Imported and Wrangled some of the data  | Discuss/analyse our wrangled data; Continue to wrangle data   |\n",
    "| 5/31  | 7 PM  | EDA | Review/Edit wrangling/EDA; Discuss Analysis Plan   |\n",
    "| 6/7  | 7 PM  | Finalize wrangling/EDA; Continue Analysis  | Discuss/edit Analysis; Complete project check-in |\n",
    "| 6/10  | 7 PM  | Complete analysis; Draft results/conclusion/discussion | Discuss/edit full project |\n",
    "| 6/13  | Before 11:59 PM  | NA | Turn in Final Project & Group Project Surveys |"
   ]
  },
  {
   "cell_type": "code",
   "execution_count": null,
   "metadata": {},
   "outputs": [],
   "source": []
  }
 ],
 "metadata": {
  "kernelspec": {
   "display_name": "Python 3",
   "language": "python",
   "name": "python3"
  },
  "language_info": {
   "codemirror_mode": {
    "name": "ipython",
    "version": 3
   },
   "file_extension": ".py",
   "mimetype": "text/x-python",
   "name": "python",
   "nbconvert_exporter": "python",
   "pygments_lexer": "ipython3",
   "version": "3.8.8"
  }
 },
 "nbformat": 4,
 "nbformat_minor": 2
}
