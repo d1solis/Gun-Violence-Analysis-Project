{
 "cells": [
  {
   "attachments": {},
   "cell_type": "markdown",
   "metadata": {},
   "source": [
    "# COGS 108 - Final Project Proposal"
   ]
  },
  {
   "attachments": {},
   "cell_type": "markdown",
   "metadata": {},
   "source": [
    "# Names\n",
    "\n",
    "- Andrew Phan\n",
    "- Aditya Kumar\n",
    "- Dalila Solis\n",
    "- Ricardo Aguilar\n",
    "- Zach Yuen"
   ]
  },
  {
   "attachments": {},
   "cell_type": "markdown",
   "metadata": {},
   "source": [
    "# Research Question"
   ]
  },
  {
   "attachments": {},
   "cell_type": "markdown",
   "metadata": {},
   "source": [
    "-  Include a specific, clear data science question.\n",
    "-  Make sure what you're measuring (variables) to answer the question is clear\n",
    "\n",
    "What is your research question? Include the specific question you're setting out to answer. This question should be specific, answerable with data, and clear. A general question with specific subquestions is permitted. (1-2 sentences)\n",
    "\n",
    "**Among a comprehensive range of socio-economic factors such as poverty rates and mental health service accessibility, which factors exhibit the strongest and most statistically significant correlations with gun violence in the United States?**"
   ]
  },
  {
   "attachments": {},
   "cell_type": "markdown",
   "metadata": {},
   "source": [
    "## Background and Prior Work"
   ]
  },
  {
   "attachments": {},
   "cell_type": "markdown",
   "metadata": {},
   "source": [
    "\n",
    "- Include a general introduction to your topic\n",
    "- Include explanation of what work has been done previously\n",
    "- Include citations or links to previous work\n",
    "\n",
    "This section will present the background and context of your topic and question in a few paragraphs. Include a general introduction to your topic and then describe what information you currently know about the topic after doing your initial research. Include references to other projects who have asked similar questions or approached similar problems. Explain what others have learned in their projects.\n",
    "\n",
    "Find some relevant prior work, and reference those sources, summarizing what each did and what they learned. Even if you think you have a totally novel question, find the most similar prior work that you can and discuss how it relates to your project.\n",
    "\n",
    "References can be research publications, but they need not be. Blogs, GitHub repositories, company websites, etc., are all viable references if they are relevant to your project. It must be clear which information comes from which references. (2-3 paragraphs, including at least 2 references)\n",
    "\n",
    " **Use inline citation through Markdown footnotes to specify which references support which statements** \n",
    "\n",
    "For example: After government genocide in the 20th century, real birds were replaced with surveillance drones designed to look just like birds[^lorenz]. \n",
    "Use a minimum of 2 or 3 citations, but we prefer more[^admonish]. You need enough to fully explain and back up important facts. \n",
    "\n",
    "[^lorenz]: Lorenz, T. (9 Dec 2021) Birds Aren’t Real, or Are They? Inside a Gen Z Conspiracy Theory. *The New York Times*. https://www.nytimes.com/2021/12/09/technology/birds-arent-real-gen-z-misinformation.html \n",
    "[^admonish]: Also refs should be important to the background, not some randomly chosen vaguely related stuff. Include a web link if possible in refs as above.\n",
    "\n",
    "\n",
    "\n",
    "\n",
    "**Gun violence is a serious issue in the United States with significantly higher levels compared to many other developed countries along with many contributing factors. Previous studies have looked at the connections between poverty rates and access to mental health services. Research has also linked poverty to greater rates of violence and crime, especially using firearms. A lack of access to mental health treatments and unrelated mental illnesses have also been linked to an increased likelyhood of engaging in violent acts involving weapons. Understanding how these factors interact can help determine the most efficient methods for reducing gun violence.**\n",
    "\n",
    "**One relevant study by John Rozel and Edward Mulvey examined the link between mental illness and firearm violence, highlighting the fact that even though mental illness is a marginal risk factor for violence, untreated or inadequately managed mental health issues might make people more likely to act violently, especially by using guns. In order to reduce violence risk without stigmatizing people with mental illness, evidence-based public policy must be guided by mental health specialists who also educate patients on gun safety. Another study conducted by Nicole Kravitz-Wirtz among several others explored the relationship between deadly gun violence by poverty, finding that the increasing poverty levels in the households of specifically young people can have a negative impact in terms of high exposure to gun violence.**\n",
    "\n",
    "**Although research has looked at the specific relationships between poverty, mental health, and gun violence, a thorough study that takes many aspects into account is still necessary. By examining how poverty rates, access to mental health services, and other potential variables interact, we seek to close this gap by identifying the variables that have the strongest and most statistically significant correlations with gun violence at the state level in the United States.**\n",
    "\n",
    "\n",
    "**[^rozel] Rozel, John S., and Edward P. Mulvey. “The Link between Mental Illness and Firearm Violence: Implications for Social Policy and Clinical Practice.” Annual Review of Clinical**\n",
    " \n",
    "**[^kravitz-wirtz] Kravitz-Wirtz, Nicole, et al. “Inequities in Community Exposure to Deadly Gun Violence by Race/Ethnicity, Poverty, and Neighborhood Disadvantage among Youth in Large US Cities.” Journal of Urban Health, 7 June 2022, https://doi.org/10.1007/s11524-022-00656-0.**\n"
   ]
  },
  {
   "attachments": {},
   "cell_type": "markdown",
   "metadata": {},
   "source": [
    "# Hypothesis\n"
   ]
  },
  {
   "attachments": {},
   "cell_type": "markdown",
   "metadata": {},
   "source": [
    "\n",
    "- Include your team's hypothesis\n",
    "- Ensure that this hypothesis is clear to readers\n",
    "- Explain why you think this will be the outcome (what was your thinking?)\n",
    "\n",
    "What is your main hypothesis/predictions about what the answer to your question is? Briefly explain your thinking. (2-3 sentences)\n",
    "\n",
    "**Our group hypothesizes that both high poverty rates and lack of access to mental health will correlatate most positively with gun violence in the U.S. We came to this outcome because areas with high poverty rates might experience limited economic opportunities as well as social disparities such as housing and food instability which we believe leads to acts of violence. Additionally, limited access to mental health services may result in untreated or under-treated mental illnesses, which can raise the risk of individuals using weapons in violent crimes.**"
   ]
  },
  {
   "attachments": {},
   "cell_type": "markdown",
   "metadata": {},
   "source": [
    "# Data"
   ]
  },
  {
   "attachments": {},
   "cell_type": "markdown",
   "metadata": {},
   "source": [
    "1. Explain what the **ideal** dataset you would want to answer this question. (This should include: What variables? How many observations? Who/what/how would these data be collected? How would these data be stored/organized?)\n",
    "1. Search for potential **real** datasets that could provide you with something useful for this project.  You do not have to find every piece of data you will use, but you do need to have demonstrated some idea that (a) this data is gettable and (b) that this data may be different from what your ideal is\n",
    "\n",
    "\n",
    "**To explore this research question, the ideal dataset would include the following:** \n",
    "\n",
    "**Rates of gun violence: The number of firearm-related occurrences, such as homicides, suicides, and non-fatal injuries, that have been reported in various U.S. areas. Poverty rates: Measures of socioeconomic status or measures of poverty at the state level. Access to mental health services: Measures of the resources' accessibility, cost, and use, such as the quantity of mental health facilities, the proportion of mental health professionals to the population, and the availability of mental health treatments under health insurance. Population characteristics: This includes age, gender, race/ethnicity, educational attainment, and employment rates are captured by demographic variables. Other possible factors include things like laws restricting the use of firearms, educational attainment, and rates of substance misuse.**\n",
    "\n",
    "**https://mhanational.org/issues/2022/mental-health-america-access-care-data - This dataset provides the rate of access to care and mental health rates by state from 2015 till 2022. A high ranking on this dataset means that citizens of the state have a high access to care and a low mental health rate.**\n",
    "\n",
    "**https://www.census.gov/data/tables/time-series/demo/income-poverty/historical-poverty-people.html: - This dataset provides the number of people and the poverty rate per state for the years 1959 till 2021. The number of observations: 3162.**\n",
    "\n",
    "**https://www.kaggle.com/datasets/greysky/us-gun-violence-dataset - This dataset provides the gun violence incidents that have occurred in the United States from January 1, 2014 to September 22, 2022. The data is grouped by state which will allow us to calculate the number of incidents per state within this time frame as well as see the trend in number of incidents through the years. The nuumber of observations: 452787.**\n",
    "\n",
    "**https://www.rand.org/pubs/tools/TLA243-2-v2.html - This dataset provides the gun laws by states. The number of observations: 2742.**\n"
   ]
  },
  {
   "attachments": {},
   "cell_type": "markdown",
   "metadata": {},
   "source": [
    "# Ethics & Privacy"
   ]
  },
  {
   "attachments": {},
   "cell_type": "markdown",
   "metadata": {},
   "source": [
    "- Thoughtful discussion of ethical concerns included\n",
    "- Ethical concerns consider the whole data science process (question asked, data collected, data being used, the bias in data, analysis, post-analysis, etc.)\n",
    "- How your group handled bias/ethical concerns clearly described\n",
    "\n",
    "Acknowledge and address any ethics & privacy related issues of your question(s), proposed dataset(s), and/or analyses. Use the information provided in lecture to guide your group discussion and thinking. If you need further guidance, check out [Deon's Ethics Checklist](http://deon.drivendata.org/#data-science-ethics-checklist). In particular:\n",
    "\n",
    "- Are there any biases/privacy/terms of use issues with the data you propsed?\n",
    "- Are there potential biases in your dataset(s), in terms of who it composes, and how it was collected, that may be problematic in terms of it allowing for equitable analysis? (For example, does your data exclude particular populations, or is it likely to reflect particular human biases in a way that could be a problem?)\n",
    "- How will you set out to detect these specific biases before, during, and after/when communicating your analysis?\n",
    "- Are there any other issues related to your topic area, data, and/or analyses that are potentially problematic in terms of data privacy and equitable impact?\n",
    "- How will you handle issues you identified?\n",
    "\n",
    "**When considering our research question there are a few potential concerns and biases to be aware of such as using state level data and ensuring the privacy and confidentiality of individuals involved. Even though the data may be aggregated at the state level, there is still a possibility of re-identification or potential risks to privacy. We may also need to consider data accuracy and completeness which can vary between states depending on whether ones have more effective data collecting and reporting processes. Therefore, biases can arise if certain states have better or worse data quality, or if some data items aren't there or are just partially present.**"
   ]
  },
  {
   "attachments": {},
   "cell_type": "markdown",
   "metadata": {},
   "source": [
    "# Team Expectations "
   ]
  },
  {
   "attachments": {},
   "cell_type": "markdown",
   "metadata": {},
   "source": [
    "\n",
    "Read over the [COGS108 Team Policies](https://github.com/COGS108/Projects/blob/master/COGS108_TeamPolicies.md) individually. Then, include your group’s expectations of one another for successful completion of your COGS108 project below. Discuss and agree on what all of your expectations are. Discuss how your team will communicate throughout the quarter and consider how you will communicate respectfully should conflicts arise. By including each member’s name above and by adding their name to the submission, you are indicating that you have read the COGS108 Team Policies, accept your team’s expectations below, and have every intention to fulfill them. These expectations are for your team’s use and benefit — they won’t be graded for their details.\n",
    "\n",
    "* ***Get work done on time (meet deadlines)***\n",
    "* ***Notify team if you might not be able to ahead of time***\n",
    "* ***Show up to meetings***\n",
    "* ***Communicate with team if you’re struggling***"
   ]
  },
  {
   "attachments": {},
   "cell_type": "markdown",
   "metadata": {},
   "source": [
    "# Project Timeline Proposal"
   ]
  },
  {
   "attachments": {},
   "cell_type": "markdown",
   "metadata": {},
   "source": [
    "Specify your team's specific project timeline. An example timeline has been provided. Changes the dates, times, names, and details to fit your group's plan.\n",
    "\n",
    "If you think you will need any special resources or training outside what we have covered in COGS 108 to solve your problem, then your proposal should state these clearly. For example, if you have selected a problem that involves implementing multiple neural networks, please state this so we can make sure you know what you’re doing and so we can point you to resources you will need to implement your project. Note that you are not required to use outside methods.\n",
    "\n",
    "\n",
    "\n",
    "| Meeting Date  | Meeting Time| Completed Before Meeting  | Discuss at Meeting |\n",
    "|---|---|---|---|\n",
    "| 5/9  |  7 PM | Do more background research  | Finalize project goals (incorporate feedback from proposal) and find datasets | \n",
    "| 5/17  |  7 PM |  Found various datasets | Finalize which datasets to use; Discuss Wrangling and possible analytical approaches; Assign group members to lead each specific part | \n",
    "| 5/24  | 7 PM  | Imported and Wrangled some of the data  | Discuss/analyse our wrangled data; Continue to wrangle data   |\n",
    "| 5/31  | 7 PM  | EDA | Review/Edit wrangling/EDA; Discuss Analysis Plan   |\n",
    "| 6/7  | 7 PM  | Finalize wrangling/EDA; Continue Analysis  | Discuss/edit Analysis; Complete project check-in |\n",
    "| 6/10  | 7 PM  | Complete analysis; Draft results/conclusion/discussion | Discuss/edit full project |\n",
    "| 6/13  | Before 11:59 PM  | NA | Turn in Final Project & Group Project Surveys |"
   ]
  },
  {
   "cell_type": "code",
   "execution_count": null,
   "metadata": {},
   "outputs": [],
   "source": []
  }
 ],
 "metadata": {
  "kernelspec": {
   "display_name": "Python 3",
   "language": "python",
   "name": "python3"
  },
  "language_info": {
   "codemirror_mode": {
    "name": "ipython",
    "version": 3
   },
   "file_extension": ".py",
   "mimetype": "text/x-python",
   "name": "python",
   "nbconvert_exporter": "python",
   "pygments_lexer": "ipython3",
   "version": "3.8.8"
  }
 },
 "nbformat": 4,
 "nbformat_minor": 2
}
