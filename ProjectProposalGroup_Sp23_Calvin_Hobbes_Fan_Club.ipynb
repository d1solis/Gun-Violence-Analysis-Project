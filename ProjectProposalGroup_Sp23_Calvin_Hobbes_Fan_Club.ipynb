{
 "cells": [
  {
   "cell_type": "markdown",
   "metadata": {},
   "source": [
    "# COGS 108 - Final Project Proposal"
   ]
  },
  {
   "cell_type": "markdown",
   "metadata": {},
   "source": [
    "# Names\n",
    "\n",
    "- Andrew Phan\n",
    "- Aditya Kumar\n",
    "- Dalila Solis\n",
    "- Ricardo Aguilar\n",
    "- Zach Yuen\n"
   ]
  },
  {
   "cell_type": "markdown",
   "metadata": {},
   "source": [
    "# Research Question"
   ]
  },
  {
   "cell_type": "markdown",
   "metadata": {},
   "source": [
    "-  Include a specific, clear data science question.\n",
    "-  Make sure what you're measuring (variables) to answer the question is clear\n",
    "\n",
    "What is your research question? Include the specific question you're setting out to answer. This question should be specific, answerable with data, and clear. A general question with specific subquestions is permitted. (1-2 sentences)\n",
    
    "Can we model the effect of ChatGPT on job availability in the U.S. tech industry? How accurately can we predict the number of jobs available?"
    
    "\n"
   ]
  },
  {
   "cell_type": "markdown",
   "metadata": {},
   "source": [
    "## Background and Prior Work"
   ]
  },
  {
   "cell_type": "markdown",
   "metadata": {},
   "source": [
    "\n",
    "- Include a general introduction to your topic\n",
    "- Include explanation of what work has been done previously\n",
    "- Include citations or links to previous work\n",
    "\n",
    "This section will present the background and context of your topic and question in a few paragraphs. Include a general introduction to your topic and then describe what information you currently know about the topic after doing your initial research. Include references to other projects who have asked similar questions or approached similar problems. Explain what others have learned in their projects.\n",
    "\n",
    "Find some relevant prior work, and reference those sources, summarizing what each did and what they learned. Even if you think you have a totally novel question, find the most similar prior work that you can and discuss how it relates to your project.\n",
    "\n",
    "References can be research publications, but they need not be. Blogs, GitHub repositories, company websites, etc., are all viable references if they are relevant to your project. It must be clear which information comes from which references. (2-3 paragraphs, including at least 2 references)\n",
    "\n",
    " **Use inline citation through Markdown footnotes to specify which references support which statements** \n",
    "\n",
    "For example: After government genocide in the 20th century, real birds were replaced with surveillance drones designed to look just like birds[^lorenz]. \n",
    "Use a minimum of 2 or 3 citations, but we prefer more[^admonish]. You need enough to fully explain and back up important facts. \n",
    "\n",
    "[^lorenz]: Lorenz, T. (9 Dec 2021) Birds Aren’t Real, or Are They? Inside a Gen Z Conspiracy Theory. *The New York Times*. https://www.nytimes.com/2021/12/09/technology/birds-arent-real-gen-z-misinformation.html \n",
    "[^admonish]: Also refs should be important to the background, not some randomly chosen vaguely related stuff. Include a web link if possible in refs as above.\n"
    
"The advancement of artificial intelligence, also known as AI, has significantly changed many technological industries. Most recently, one of the biggest breakthroughs in AI is the development of ChatGPT, which is a large language model. ChatGPT essentially generates human-like responses and offers the ability to automate a variety of tasks that require human input. However, this raises the question about how it would potentially affect the availability of jobs in the tech industry, specifically in the United States. There are few studies that have examined the effect of ChatGPT on job availability in the tech industry. For example, a study co-authored by OpenAI, the founders of ChatGPT, estimate that 15% of all tasks performed by the workforce in the United States might be performed significantly faster through LLMs. If additional complementary technologies are added, this figure could exceed half of all tasks [^warnke]. This implies that the integration of language models such as ChatGPT in the workplace has the potential to significantly impact the job market, as a large portion of tasks currently performed by human workers could be automated and completed more quickly by machines. This could lead to the displacement of some jobs and require workers to adapt their skills to stay relevant in the job market. Additionally this includes that of the Goldman Sachs study that two-thirds of all jobs in the United States will be at least partly affected by Generative AI (with 25% - 50% of their tasks potentially being automated) [^warnke]. Another example includes a study 2013 University of Oxford study found that 47% of US jobs could be eliminated by AI over the next 20 years, that prediction appears to have been off-base [^mok & zinkula]. This suggests that there is a degree of uncertainty when it comes to predicting the impact of AI on the job market. Almost half of all US jobs could be eliminated by AI over the next 2 decades, which would have had a significant impact on the economy and the job market. Moreover, a recent Goldman Sachs study found that generative AI tools could, in fact, impact 300 million full-time jobs worldwide, which could lead to a "significant disruption" in the job market [^mok & zinkula]. This highlights the need for ongoing research and analysis of the impact of AI on the job market. As AI technology continues to evolve and become more sophisticated, it is likely that the impact on the job market will continue to be a topic of concern and debate, and it will be important for researchers and policymakers to monitor these trends and adapt policies as needed."

"[^warnke] Warnke, A. (2023, April 28). Generative AI &amp; Job Impact: Exploring Chatgpt's effect on the workforce. DataCamp. https://www.datacamp.com/blog/the-impact-of-chatgpt-and-generative-ai-on-jobs"
 
"[^mok & zinkula]  Mok, A., & Zinkula , J. (2023, April 9). Chatgpt may be coming for our jobs. here are the 10 roles that AI is most likely to replace. Business Insider. https://www.businessinsider.com/chatgpt-jobs-at-risk-replacement-artificial-intelligence-ai-labor-trends-2023-02#customer-service-agents-10"

    
   ]
  },
  {
   "cell_type": "markdown",
   "metadata": {},
   "source": [
    "# Hypothesis\n"
   ]
  },
  {
   "cell_type": "markdown",
   "metadata": {},
   "source": [
    "\n",
    "- Include your team's hypothesis\n",
    "- Ensure that this hypothesis is clear to readers\n",
    "- Explain why you think this will be the outcome (what was your thinking?)\n",
    "\n",
    "What is your main hypothesis/predictions about what the answer to your question is? Briefly explain your thinking. (2-3 sentences)"
    
"Based on job availability datasets and data regarding the growth of chatGPT, we believe our model will be able to accurately predict job availability in the tech industry. We think the number of available tech jobs will fall due to the rapid improvement and vast capabilities of chatGPT."
    
   ]
  },
  {
   "cell_type": "markdown",
   "metadata": {},
   "source": [
    "# Data"
   ]
  },
  {
   "cell_type": "markdown",
   "metadata": {},
   "source": [
    "1. Explain what the **ideal** dataset you would want to answer this question. (This should include: What variables? How many observations? Who/what/how would these data be collected? How would these data be stored/organized?)\n",
    "1. Search for potential **real** datasets that could provide you with something useful for this project.  You do not have to find every piece of data you will use, but you do need to have demonstrated some idea that (a) this data is gettable and (b) that this data may be different from what your ideal is"
    
"The ideal dataset would have information about job availability (i.e. quantitative info) for both prominent and lesser known companies as well as corresponding dates so we can track how job availability has changed throughout the development of chatGPT. These data would be collected by various organizations related to labor including the U.S. Bureau of Labor, Indeed, etc."
"https://www.kaggle.com/datasets/sl6149/data-scientist-job-market-in-the-us"
"https://www.kaggle.com/code/elisthefox/us-data-job-market"
"https://www.zenrows.com/datasets/us-software-engineer-jobs"
"https://www.bls.gov/ooh/computer-and-information-technology/software-developers.htm"
"https://data.bls.gov/cgi-bin/surveymost?jt"
    
   ]
  },
  {
   "cell_type": "markdown",
   "metadata": {},
   "source": [
    "# Ethics & Privacy"
   ]
  },
  {
   "cell_type": "markdown",
   "metadata": {},
   "source": [
    "- Thoughtful discussion of ethical concerns included\n",
    "- Ethical concerns consider the whole data science process (question asked, data collected, data being used, the bias in data, analysis, post-analysis, etc.)\n",
    "- How your group handled bias/ethical concerns clearly described\n",
    "\n",
    "Acknowledge and address any ethics & privacy related issues of your question(s), proposed dataset(s), and/or analyses. Use the information provided in lecture to guide your group discussion and thinking. If you need further guidance, check out [Deon's Ethics Checklist](http://deon.drivendata.org/#data-science-ethics-checklist). In particular:\n",
    "\n",
    "- Are there any biases/privacy/terms of use issues with the data you propsed?\n",
    "- Are there potential biases in your dataset(s), in terms of who it composes, and how it was collected, that may be problematic in terms of it allowing for equitable analysis? (For example, does your data exclude particular populations, or is it likely to reflect particular human biases in a way that could be a problem?)\n",
    "- How will you set out to detect these specific biases before, during, and after/when communicating your analysis?\n",
    "- Are there any other issues related to your topic area, data, and/or analyses that are potentially problematic in terms of data privacy and equitable impact?\n",
    "- How will you handle issues you identified?"
    
    
    "The data we proposed doesn’t really contain any biases/privacy/terms of use issues because it consists of reported job numbers that are factual. A potential bias is that it was collected by humans who might be biased against chatGPT since it could potentially be taking away jobs from people which is a reality many would rather not consider. We will ensure that we detect this bias by examining how the data was collected and what populations it considered. There shouldn’t be any privacy concerns because the datasets don’t give any specific information about who the identities of the survey respondents."
    
   ]
  },
  {
   "cell_type": "markdown",
   "metadata": {},
   "source": [
    "# Team Expectations "
   ]
  },
  {
   "cell_type": "markdown",
   "metadata": {},
   "source": [
    "\n",
    "Read over the [COGS108 Team Policies](https://github.com/COGS108/Projects/blob/master/COGS108_TeamPolicies.md) individually. Then, include your group’s expectations of one another for successful completion of your COGS108 project below. Discuss and agree on what all of your expectations are. Discuss how your team will communicate throughout the quarter and consider how you will communicate respectfully should conflicts arise. By including each member’s name above and by adding their name to the submission, you are indicating that you have read the COGS108 Team Policies, accept your team’s expectations below, and have every intention to fulfill them. These expectations are for your team’s use and benefit — they won’t be graded for their details.\n",
    "\n",
    "* *Team Expectation 1*\n",
    "* *Team Expectation 2*\n",
    "* *Team Expecation 3*\n",
    "* ..."
    
    
"* * Get work done on time (meet deadlines) *\n"
"* * Notify team if you might not be able to ahead of time *\n"
"* * Show up to meetings *\n"
"* * Communicate with team if you’re struggling *\n"

    
   ]
  },
  {
   "cell_type": "markdown",
   "metadata": {},
   "source": [
    "# Project Timeline Proposal"
   ]
  },
  {
   "cell_type": "markdown",
   "metadata": {},
   "source": [
    "Specify your team's specific project timeline. An example timeline has been provided. Changes the dates, times, names, and details to fit your group's plan.\n",
    "\n",
    "If you think you will need any special resources or training outside what we have covered in COGS 108 to solve your problem, then your proposal should state these clearly. For example, if you have selected a problem that involves implementing multiple neural networks, please state this so we can make sure you know what you’re doing and so we can point you to resources you will need to implement your project. Note that you are not required to use outside methods.\n",
    "\n",
    "\n",
    "\n",
    "| Meeting Date  | Meeting Time| Completed Before Meeting  | Discuss at Meeting |\n",
    "|---|---|---|---|\n",
    "| 5/9  |  8 PM | Do more background research  | Finalize project goals (incorporate feedback from proposal) and find datasets | \n",
    "| 5/17  |  7 PM |  Found various datasets | Finalize which datasets to use; Discuss Wrangling and possible analytical approaches; Assign group members to lead each specific part | \n",
    "| 5/24  | 7 PM  | Imported and Warngled some of the data  | Discuss/Analyse our wrangled data; continue to wrangle the data   |\n",
    "| 5/31  | 7 PM  | EDA | Review/Edit wrangling/EDA; Discuss Analysis Plan   |\n",
    "| 6/7  | 7 PM  | Finalize wrangling/EDA; Begin Analysis | Discuss/edit Analysis |\n",
    "| 6/10  | 7 PM  | Complete analysis; Draft results/conclusion/discussion| Discuss/edit full project |\n",
    "| 6/13  | Before 11:59 PM  | NA | Turn in Final Project & Group Project Surveys |"
   ] 
  },
  {
   "cell_type": "code",
   "execution_count": null,
   "metadata": {},
   "outputs": [],
   "source": []
  }
 ],
 "metadata": {
  "kernelspec": {
   "display_name": "Python 3",
   "language": "python",
   "name": "python3"
  },
  "language_info": {
   "codemirror_mode": {
    "name": "ipython",
    "version": 3
   },
   "file_extension": ".py",
   "mimetype": "text/x-python",
   "name": "python",
   "nbconvert_exporter": "python",
   "pygments_lexer": "ipython3",
   "version": "3.8.8"
  }
 },
 "nbformat": 4,
 "nbformat_minor": 2
}
